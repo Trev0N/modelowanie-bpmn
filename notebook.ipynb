{
 "nbformat": 4,
 "nbformat_minor": 0,
 "metadata": {
  "colab": {
   "name": "Kopia_notatnika_Czesc2_2022_Odkrywanie_modeli_BPMN_3 (1).ipynb",
   "provenance": [],
   "collapsed_sections": []
  },
  "kernelspec": {
   "name": "python3",
   "display_name": "Python 3"
  }
 },
 "cells": [
  {
   "cell_type": "code",
   "execution_count": null,
   "outputs": [],
   "source": [
    "---\n",
    "title: Modelowanie część 3 i 4\n",
    "authors: Paweł Bucior, Julia Witek\n",
    "description: Frontend do modelowania biznesowego\n",
    "params:\n",
    "    file_name:\n",
    "        input: file\n",
    "        label: Upload file to generate BPMN model\n",
    "---"
   ],
   "metadata": {
    "collapsed": false,
    "pycharm": {
     "name": "#%%\n"
    }
   }
  },
  {
   "cell_type": "markdown",
   "source": [
    "# Odkrywanie modeli procesów w BPMN przy użyciu dostosowanego do notacji BPMN algorytmu Alpha Miner\n",
    "\n",
    "Na tym etapie projektu omówimy proste rozwiązanie z zakresu odkrywania modeli procesów -- na potrzeby zrozumienia sposobu odkrywania bram zastosujemy nieco zmieniony algorytm Alpha przystosowany do odkrywania modeli w notacji BPMN.\n",
    "\n",
    "Elementy tego rozwiązania powinny zostać zintegrowane z rozwiązaniem z poprzednich ćwiczeń."
   ],
   "metadata": {
    "collapsed": false,
    "pycharm": {
     "name": "#%% md\n"
    }
   }
  },
  {
   "cell_type": "markdown",
   "metadata": {
    "id": "40TVLT-Vgp0Y",
    "pycharm": {
     "name": "#%% md\n"
    }
   },
   "source": [
    "## Konfiguracja środowiska\n",
    "\n",
    "Przed implementacją potrzebujemy jeszcze odpowiednie środowisko:"
   ]
  },
  {
   "cell_type": "code",
   "source": [
    "!pip install opyenxes\n",
    "!apt install libgraphviz-dev\n",
    "!pip install pygraphviz"
   ],
   "metadata": {
    "colab": {
     "base_uri": "https://localhost:8080/"
    },
    "id": "KY33PjI7Ov-g",
    "outputId": "05c1f130-eb81-423d-80b5-bc4f91b8202f",
    "pycharm": {
     "name": "#%%\n"
    }
   },
   "execution_count": 1,
   "outputs": [
    {
     "output_type": "stream",
     "name": "stdout",
     "text": [
      "Collecting opyenxes\n",
      "  Downloading opyenxes-0.3.0.tar.gz (94 kB)\n",
      "\u001B[?25l\r\u001B[K     |███▌                            | 10 kB 17.4 MB/s eta 0:00:01\r\u001B[K     |███████                         | 20 kB 20.5 MB/s eta 0:00:01\r\u001B[K     |██████████▍                     | 30 kB 22.3 MB/s eta 0:00:01\r\u001B[K     |█████████████▉                  | 40 kB 22.8 MB/s eta 0:00:01\r\u001B[K     |█████████████████▎              | 51 kB 12.0 MB/s eta 0:00:01\r\u001B[K     |████████████████████▊           | 61 kB 13.9 MB/s eta 0:00:01\r\u001B[K     |████████████████████████▏       | 71 kB 13.0 MB/s eta 0:00:01\r\u001B[K     |███████████████████████████▋    | 81 kB 12.7 MB/s eta 0:00:01\r\u001B[K     |███████████████████████████████ | 92 kB 13.8 MB/s eta 0:00:01\r\u001B[K     |████████████████████████████████| 94 kB 2.8 MB/s \n",
      "\u001B[?25hRequirement already satisfied: Click>=6.0 in /usr/local/lib/python3.7/dist-packages (from opyenxes) (7.1.2)\n",
      "Building wheels for collected packages: opyenxes\n",
      "  Building wheel for opyenxes (setup.py) ... \u001B[?25l\u001B[?25hdone\n",
      "  Created wheel for opyenxes: filename=opyenxes-0.3.0-py2.py3-none-any.whl size=79230 sha256=a06abb1cfcd19b064b5c4712e95c14018b845a2b96a7d3d7046670b652538447\n",
      "  Stored in directory: /root/.cache/pip/wheels/b2/0b/80/cb6b1a80882eff1d3707d9b30ca5febe120d7fa0120e38e69b\n",
      "Successfully built opyenxes\n",
      "Installing collected packages: opyenxes\n",
      "Successfully installed opyenxes-0.3.0\n",
      "Reading package lists... Done\n",
      "Building dependency tree       \n",
      "Reading state information... Done\n",
      "The following packages were automatically installed and are no longer required:\n",
      "  libnvidia-common-460 nsight-compute-2020.2.0\n",
      "Use 'apt autoremove' to remove them.\n",
      "The following additional packages will be installed:\n",
      "  libgail-common libgail18 libgtk2.0-0 libgtk2.0-bin libgtk2.0-common\n",
      "  libgvc6-plugins-gtk libxdot4\n",
      "Suggested packages:\n",
      "  gvfs\n",
      "The following NEW packages will be installed:\n",
      "  libgail-common libgail18 libgraphviz-dev libgtk2.0-0 libgtk2.0-bin\n",
      "  libgtk2.0-common libgvc6-plugins-gtk libxdot4\n",
      "0 upgraded, 8 newly installed, 0 to remove and 42 not upgraded.\n",
      "Need to get 2,120 kB of archives.\n",
      "After this operation, 7,128 kB of additional disk space will be used.\n",
      "Get:1 http://archive.ubuntu.com/ubuntu bionic/main amd64 libgtk2.0-common all 2.24.32-1ubuntu1 [125 kB]\n",
      "Get:2 http://archive.ubuntu.com/ubuntu bionic/main amd64 libgtk2.0-0 amd64 2.24.32-1ubuntu1 [1,769 kB]\n",
      "Get:3 http://archive.ubuntu.com/ubuntu bionic/main amd64 libgail18 amd64 2.24.32-1ubuntu1 [14.2 kB]\n",
      "Get:4 http://archive.ubuntu.com/ubuntu bionic/main amd64 libgail-common amd64 2.24.32-1ubuntu1 [112 kB]\n",
      "Get:5 http://archive.ubuntu.com/ubuntu bionic/universe amd64 libxdot4 amd64 2.40.1-2 [15.7 kB]\n",
      "Get:6 http://archive.ubuntu.com/ubuntu bionic/universe amd64 libgvc6-plugins-gtk amd64 2.40.1-2 [18.2 kB]\n",
      "Get:7 http://archive.ubuntu.com/ubuntu bionic/universe amd64 libgraphviz-dev amd64 2.40.1-2 [57.3 kB]\n",
      "Get:8 http://archive.ubuntu.com/ubuntu bionic/main amd64 libgtk2.0-bin amd64 2.24.32-1ubuntu1 [7,536 B]\n",
      "Fetched 2,120 kB in 1s (2,573 kB/s)\n",
      "Selecting previously unselected package libgtk2.0-common.\n",
      "(Reading database ... 155202 files and directories currently installed.)\n",
      "Preparing to unpack .../0-libgtk2.0-common_2.24.32-1ubuntu1_all.deb ...\n",
      "Unpacking libgtk2.0-common (2.24.32-1ubuntu1) ...\n",
      "Selecting previously unselected package libgtk2.0-0:amd64.\n",
      "Preparing to unpack .../1-libgtk2.0-0_2.24.32-1ubuntu1_amd64.deb ...\n",
      "Unpacking libgtk2.0-0:amd64 (2.24.32-1ubuntu1) ...\n",
      "Selecting previously unselected package libgail18:amd64.\n",
      "Preparing to unpack .../2-libgail18_2.24.32-1ubuntu1_amd64.deb ...\n",
      "Unpacking libgail18:amd64 (2.24.32-1ubuntu1) ...\n",
      "Selecting previously unselected package libgail-common:amd64.\n",
      "Preparing to unpack .../3-libgail-common_2.24.32-1ubuntu1_amd64.deb ...\n",
      "Unpacking libgail-common:amd64 (2.24.32-1ubuntu1) ...\n",
      "Selecting previously unselected package libxdot4.\n",
      "Preparing to unpack .../4-libxdot4_2.40.1-2_amd64.deb ...\n",
      "Unpacking libxdot4 (2.40.1-2) ...\n",
      "Selecting previously unselected package libgvc6-plugins-gtk.\n",
      "Preparing to unpack .../5-libgvc6-plugins-gtk_2.40.1-2_amd64.deb ...\n",
      "Unpacking libgvc6-plugins-gtk (2.40.1-2) ...\n",
      "Selecting previously unselected package libgraphviz-dev.\n",
      "Preparing to unpack .../6-libgraphviz-dev_2.40.1-2_amd64.deb ...\n",
      "Unpacking libgraphviz-dev (2.40.1-2) ...\n",
      "Selecting previously unselected package libgtk2.0-bin.\n",
      "Preparing to unpack .../7-libgtk2.0-bin_2.24.32-1ubuntu1_amd64.deb ...\n",
      "Unpacking libgtk2.0-bin (2.24.32-1ubuntu1) ...\n",
      "Setting up libgtk2.0-common (2.24.32-1ubuntu1) ...\n",
      "Setting up libxdot4 (2.40.1-2) ...\n",
      "Setting up libgtk2.0-0:amd64 (2.24.32-1ubuntu1) ...\n",
      "Setting up libgail18:amd64 (2.24.32-1ubuntu1) ...\n",
      "Setting up libgail-common:amd64 (2.24.32-1ubuntu1) ...\n",
      "Setting up libgvc6-plugins-gtk (2.40.1-2) ...\n",
      "Setting up libgraphviz-dev (2.40.1-2) ...\n",
      "Setting up libgtk2.0-bin (2.24.32-1ubuntu1) ...\n",
      "Processing triggers for man-db (2.8.3-2ubuntu0.1) ...\n",
      "Processing triggers for libc-bin (2.27-3ubuntu1.3) ...\n",
      "/sbin/ldconfig.real: /usr/local/lib/python3.7/dist-packages/ideep4py/lib/libmkldnn.so.0 is not a symbolic link\n",
      "\n",
      "Collecting pygraphviz\n",
      "  Downloading pygraphviz-1.7.zip (118 kB)\n",
      "\u001B[K     |████████████████████████████████| 118 kB 24.6 MB/s \n",
      "\u001B[?25hBuilding wheels for collected packages: pygraphviz\n",
      "  Building wheel for pygraphviz (setup.py) ... \u001B[?25l\u001B[?25hdone\n",
      "  Created wheel for pygraphviz: filename=pygraphviz-1.7-cp37-cp37m-linux_x86_64.whl size=165749 sha256=e628336531bcaaecd1a045358377e33406e3d3e7b8ac09e2eba0f3d3010df3c5\n",
      "  Stored in directory: /root/.cache/pip/wheels/8c/bc/0c/ac35392b72556e75107ff610cb31b313e8471918a6d280e34c\n",
      "Successfully built pygraphviz\n",
      "Installing collected packages: pygraphviz\n",
      "Successfully installed pygraphviz-1.7\n"
     ]
    }
   ]
  },
  {
   "cell_type": "code",
   "execution_count": null,
   "outputs": [],
   "source": [
    "file_name=\"file\""
   ],
   "metadata": {
    "collapsed": false,
    "pycharm": {
     "name": "#%%\n"
    }
   }
  },
  {
   "cell_type": "code",
   "metadata": {
    "id": "1K-DMpoLgqr4",
    "pycharm": {
     "name": "#%%\n"
    }
   },
   "source": [
    "import pygraphviz as pgv\n",
    "from itertools import product\n",
    "from collections import defaultdict\n",
    "from typing import Dict, Set\n",
    "from IPython.display import Image, display"
   ],
   "execution_count": 2,
   "outputs": []
  },
  {
   "cell_type": "markdown",
   "metadata": {
    "id": "jPIEZOUwYGOd",
    "pycharm": {
     "name": "#%% md\n"
    }
   },
   "source": [
    "## Przykładowy log dla zrozumienia działania algorytmu\n",
    "\n",
    "Rozważmy następujące ślady (warianty) pewnego dziennika zdarzeń:\n",
    "\n",
    "```\n",
    "a b c d e g\n",
    "a b c d f g \n",
    "a c b d e g\n",
    "a c b d f g\n",
    "```\n",
    "\n",
    "Dla takiego zbioru wariantów, w oparciu o algorytm Alpha, możemy znaleźć następujące relacje (x,y — zdarzenia):\n",
    "\n",
    "* (>) **następstwo bezpośrednie**: x>y jeśli w dowolnym wariancie bezpośrednim następstwem zdarzenia x jest zdarzenie y,\n",
    "* (→) **przyczynowość**: x→y iff x>y & not y>x,\n",
    "* (||) **potencjalna równoległość**: x||y iff x>y & y>x,\n",
    "* (#) **wybór/niepowiązanie/brak bezpośredniego następstwa**: x#y iff not x>y & not y>x.\n",
    "\n",
    "W naszej implementacji nie musimy używać bezpośrednio relacji **brak bezpośredniego następstwa**, gdyż zamiast tego wystarczy sprawdzić, czy dane zdarzenia nie są w jednej z relacji: **przyczynowość** lub **potencjalna równoległość**."
   ]
  },
  {
   "cell_type": "code",
   "source": [
    "events = \"\"\"b c d e \n",
    "b c e d \n",
    "a c d e \n",
    "a c e d \n",
    "\"\"\"\n",
    "\n",
    "events_tab = []\n",
    "for line in events.splitlines():\n",
    "    events_tab.append(line.split())\n",
    "    \n",
    "print(events_tab)\n"
   ],
   "metadata": {
    "colab": {
     "base_uri": "https://localhost:8080/"
    },
    "id": "lwbc_LEZQer-",
    "outputId": "ffcd0a84-22a9-42fe-d096-c6220ed24639",
    "pycharm": {
     "name": "#%%\n"
    }
   },
   "execution_count": 3,
   "outputs": [
    {
     "output_type": "stream",
     "name": "stdout",
     "text": [
      "[['b', 'c', 'd', 'e'], ['b', 'c', 'e', 'd'], ['a', 'c', 'd', 'e'], ['a', 'c', 'e', 'd']]\n"
     ]
    }
   ]
  },
  {
   "cell_type": "markdown",
   "metadata": {
    "id": "8_zGYPubYJQN",
    "pycharm": {
     "name": "#%% md\n"
    }
   },
   "source": [
    "\n",
    "## Manualne określenie relacji\n",
    "\n",
    "Analogicznie jak na poprzednim laboratorium należy określić zbiory zdarzeń początkowych oraz końcowych:"
   ]
  },
  {
   "cell_type": "code",
   "metadata": {
    "id": "TTivaKngadWM",
    "pycharm": {
     "name": "#%%\n"
    }
   },
   "source": [
    "start_set_events = {'a', 'b'}\n",
    "end_set_events = {'d','e'}"
   ],
   "execution_count": 4,
   "outputs": []
  },
  {
   "cell_type": "code",
   "source": [
    "def get_start_set_events(events_tab):\n",
    "  start_set_events = set()\n",
    "  for line in events_tab:\n",
    "    start_set_events.add(line[0])\n",
    "  \n",
    "  return start_set_events"
   ],
   "metadata": {
    "id": "lJgkVXAcSWMU",
    "pycharm": {
     "name": "#%%\n"
    }
   },
   "execution_count": 5,
   "outputs": []
  },
  {
   "cell_type": "code",
   "source": [
    "def get_end_set_events(events_tab):\n",
    "  end_set_events = set()\n",
    "  for line in events_tab:\n",
    "    end_set_events.add(line[len(line)-1])\n",
    "  \n",
    "  return end_set_events"
   ],
   "metadata": {
    "id": "66qDqmbSTPIg",
    "pycharm": {
     "name": "#%%\n"
    }
   },
   "execution_count": 6,
   "outputs": []
  },
  {
   "cell_type": "code",
   "source": [
    "start_set_events = get_start_set_events(events_tab)\n",
    "end_set_events = get_end_set_events(events_tab)"
   ],
   "metadata": {
    "id": "fSCjJlVRSnK2",
    "pycharm": {
     "name": "#%%\n"
    }
   },
   "execution_count": 7,
   "outputs": []
  },
  {
   "cell_type": "markdown",
   "metadata": {
    "id": "IRj6b93DYJrH",
    "pycharm": {
     "name": "#%% md\n"
    }
   },
   "source": [
    "Następnie określimy relacje, tak jak zdefiniowano w algorytmie Alpha:"
   ]
  },
  {
   "cell_type": "code",
   "metadata": {
    "id": "ozY5O6kUahIJ",
    "colab": {
     "base_uri": "https://localhost:8080/"
    },
    "outputId": "74b2fc23-716d-4080-8d34-ca5c16163fcc",
    "pycharm": {
     "name": "#%%\n"
    }
   },
   "source": [
    "\n",
    "direct_succession = {\n",
    "    'a': {'b','c'},\n",
    "    'b': {'c','d'},\n",
    "    'c': {'b','d'},\n",
    "    'd': {'e','f'},\n",
    "    'e': {'g'},\n",
    "    'f': {'g'},\n",
    "    'g': {}\n",
    "}\n",
    "\n",
    "causality = {\n",
    "    'a': {'b', 'c'},\n",
    "    'b': {'d'},\n",
    "    'c': {'d'},\n",
    "    'd': {'e','f'},\n",
    "    'e': {'g'},\n",
    "    'f': {'g'}\n",
    "}\n",
    "\n",
    "parallel_events = {('b', 'c'), ('c', 'b')}\n",
    "type(parallel_events)"
   ],
   "execution_count": 8,
   "outputs": [
    {
     "output_type": "execute_result",
     "data": {
      "text/plain": [
       "set"
      ]
     },
     "metadata": {},
     "execution_count": 8
    }
   ]
  },
  {
   "cell_type": "code",
   "source": [
    "def get_direct_successtion(events):\n",
    "  direct_new = {}\n",
    "  unique_elements = []\n",
    "  for r in events:\n",
    "   for c in r:\n",
    "      if c not in unique_elements:\n",
    "        unique_elements.append(c)\n",
    "  \n",
    "  for ue in unique_elements:\n",
    "    relations = set()\n",
    "    for r in events:\n",
    "      for index, c in enumerate(r):\n",
    "        if c == ue and int(len(r)) > int(index+1):\n",
    "          relations.add(r[index+1])\n",
    "    if len(relations) > 0:\n",
    "      direct_new[ue] = relations\n",
    "    else: \n",
    "      direct_new[ue] = {}\n",
    "  return direct_new"
   ],
   "metadata": {
    "id": "eSoE0-rI6sjV",
    "pycharm": {
     "name": "#%%\n"
    }
   },
   "execution_count": 9,
   "outputs": []
  },
  {
   "cell_type": "code",
   "source": [
    "events = [['a', 'b', 'c', 'd', 'e', 'g'],['a', 'b', 'c', 'd', 'f', 'g'],['a', 'c', 'b', 'd', 'e', 'g'],['a', 'c', 'b', 'd', 'f', 'g']]\n",
    "direct_succession = get_direct_successtion(events)\n",
    "for r in direct_succession:\n",
    "  print(r + ': ' + str(direct_succession[r]))"
   ],
   "metadata": {
    "colab": {
     "base_uri": "https://localhost:8080/"
    },
    "id": "lxcUh5Da7yl0",
    "outputId": "436f426a-426c-46b8-ab82-75fd5a04cff8",
    "pycharm": {
     "name": "#%%\n"
    }
   },
   "execution_count": 10,
   "outputs": [
    {
     "output_type": "stream",
     "name": "stdout",
     "text": [
      "a: {'b', 'c'}\n",
      "b: {'d', 'c'}\n",
      "c: {'d', 'b'}\n",
      "d: {'f', 'e'}\n",
      "e: {'g'}\n",
      "g: {}\n",
      "f: {'g'}\n"
     ]
    }
   ]
  },
  {
   "cell_type": "code",
   "source": [
    "events = [['a', 'b', 'c', 'd', 'e', 'h', 'i', 'k'], \n",
    "          ['a', 'b', 'd', 'c', 'e', 'h', 'j', 'k'], \n",
    "          ['a', 'f', 'g', 'h', 'i', 'k']]\n",
    "direct_succession = get_direct_successtion(events)\n",
    "for r in direct_succession:\n",
    "  print(r + ': ' + str(direct_succession[r]))\n"
   ],
   "metadata": {
    "colab": {
     "base_uri": "https://localhost:8080/"
    },
    "id": "ApAMpjMf7zYu",
    "outputId": "da8aeb5f-f698-44ba-dadb-57d6898792ae",
    "pycharm": {
     "name": "#%%\n"
    }
   },
   "execution_count": 11,
   "outputs": [
    {
     "output_type": "stream",
     "name": "stdout",
     "text": [
      "a: {'f', 'b'}\n",
      "b: {'d', 'c'}\n",
      "c: {'e', 'd'}\n",
      "d: {'e', 'c'}\n",
      "e: {'h'}\n",
      "h: {'j', 'i'}\n",
      "i: {'k'}\n",
      "k: {}\n",
      "j: {'k'}\n",
      "f: {'g'}\n",
      "g: {'h'}\n"
     ]
    }
   ]
  },
  {
   "cell_type": "code",
   "source": [
    "events = [['b', 'c', 'd', 'e'], \n",
    "['b', 'c', 'e', 'd'],\n",
    "['a', 'c', 'd', 'e'], \n",
    "['a', 'c', 'e', 'd']]\n",
    "direct_succession = get_direct_successtion(events)\n",
    "for r in direct_succession:\n",
    "  print(r + ': ' + str(direct_succession[r]))\n",
    "\n",
    "\n",
    "# =======A1======="
   ],
   "metadata": {
    "colab": {
     "base_uri": "https://localhost:8080/"
    },
    "id": "yfeqwy6q-brH",
    "outputId": "f3666f2d-861e-4180-8b8c-2562d547a7d7",
    "pycharm": {
     "name": "#%%\n"
    }
   },
   "execution_count": 12,
   "outputs": [
    {
     "output_type": "stream",
     "name": "stdout",
     "text": [
      "b: {'c'}\n",
      "c: {'e', 'd'}\n",
      "d: {'e'}\n",
      "e: {'d'}\n",
      "a: {'c'}\n"
     ]
    }
   ]
  },
  {
   "cell_type": "markdown",
   "metadata": {
    "id": "U8esT_-zq62H",
    "pycharm": {
     "name": "#%% md\n"
    }
   },
   "source": [
    "Na bazie powyższych relacji oraz poniższych wzorców postaramy się zbudować model procesu w notacji BPMN:\n",
    "![pm-alpha-patterns.png](data:image/png;base64,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)\n"
   ]
  },
  {
   "cell_type": "markdown",
   "metadata": {
    "id": "FJFdwh8RgsOP",
    "pycharm": {
     "name": "#%% md\n"
    }
   },
   "source": [
    "Na potrzeby naszej implementacji możemy również zdefiniować odwróconą przyczynowość dla tych zdarzeń w relacji przyczynowości, które mają wspólną przyczynę (nie jest to część samego algorytmu alfa, ale może być pomocne jako zmienna tymczasowa przy korzystaniu z wzorców alfa mining):"
   ]
  },
  {
   "cell_type": "code",
   "source": [
    "def get_causality(direct_succession) -> Dict[str, Set[str]]:\n",
    "    causality = defaultdict(set)\n",
    "    for ev_cause, events in direct_succession.items():\n",
    "        for event in events:\n",
    "            if ev_cause not in direct_succession.get(event, set()):\n",
    "                causality[ev_cause].add(event)\n",
    "    return dict(causality)"
   ],
   "metadata": {
    "id": "7IdkSi0xKNUK",
    "pycharm": {
     "name": "#%%\n"
    }
   },
   "execution_count": 13,
   "outputs": []
  },
  {
   "cell_type": "code",
   "source": [
    "def get_potential_parallelism(direct_succession) -> Dict[str, Set[str]]:\n",
    "  potential_parallelism = {}\n",
    "  for ev_cause, events in direct_succession.items():\n",
    "    for event in events:\n",
    "      if ev_cause in direct_succession.get(event, set()):\n",
    "        potential_parallelism = {(ev_cause,event), (event,ev_cause)}\n",
    "        return potential_parallelism\n",
    "\n"
   ],
   "metadata": {
    "id": "vnPsWwrUy_a2",
    "pycharm": {
     "name": "#%%\n"
    }
   },
   "execution_count": 14,
   "outputs": []
  },
  {
   "cell_type": "code",
   "source": [
    "potential_paralleslism = get_potential_parallelism(direct_succession)\n",
    "parallel_events = potential_paralleslism\n",
    "print(parallel_events)"
   ],
   "metadata": {
    "colab": {
     "base_uri": "https://localhost:8080/"
    },
    "id": "8rNA331MzKDh",
    "outputId": "713ecac1-fdc9-4c89-8813-afe90e8e909a",
    "pycharm": {
     "name": "#%%\n"
    }
   },
   "execution_count": 15,
   "outputs": [
    {
     "output_type": "stream",
     "name": "stdout",
     "text": [
      "{('d', 'e'), ('e', 'd')}\n"
     ]
    }
   ]
  },
  {
   "cell_type": "code",
   "source": [
    "causality = get_causality(direct_succession)\n",
    "causality"
   ],
   "metadata": {
    "colab": {
     "base_uri": "https://localhost:8080/"
    },
    "id": "rKxKEumhKYfk",
    "outputId": "c723800a-baf2-42ea-a9bc-8af50f18a71e",
    "pycharm": {
     "name": "#%%\n"
    }
   },
   "execution_count": 16,
   "outputs": [
    {
     "output_type": "execute_result",
     "data": {
      "text/plain": [
       "{'a': {'c'}, 'b': {'c'}, 'c': {'d', 'e'}}"
      ]
     },
     "metadata": {},
     "execution_count": 16
    }
   ]
  },
  {
   "cell_type": "code",
   "source": [
    "def get_inv_causality(causality) -> Dict[str, Set[str]]:\n",
    "    inv_causality = defaultdict(set)\n",
    "    for key, values in causality.items():\n",
    "        for value in values: \n",
    "          inv_causality[value].add(key)\n",
    "    return {k: v for k, v in inv_causality.items() if len(v) > 1}"
   ],
   "metadata": {
    "id": "oNgKPQCs_Et7",
    "pycharm": {
     "name": "#%%\n"
    }
   },
   "execution_count": 17,
   "outputs": []
  },
  {
   "cell_type": "code",
   "source": [
    "inv_causality = get_inv_causality(causality)\n",
    "inv_causality"
   ],
   "metadata": {
    "colab": {
     "base_uri": "https://localhost:8080/"
    },
    "id": "5IhVfFLg7Q4W",
    "outputId": "9efb01e6-2dd1-43e3-8c87-ae7583e8f553",
    "pycharm": {
     "name": "#%%\n"
    }
   },
   "execution_count": 18,
   "outputs": [
    {
     "output_type": "execute_result",
     "data": {
      "text/plain": [
       "{'c': {'a', 'b'}}"
      ]
     },
     "metadata": {},
     "execution_count": 18
    }
   ]
  },
  {
   "cell_type": "markdown",
   "metadata": {
    "id": "NY1RZ--Hg-lq",
    "pycharm": {
     "name": "#%% md\n"
    }
   },
   "source": [
    "## Wyświetlenie prostego modelu BPMN\n",
    "\n",
    "Poniżej zaprezentowano przykładowy kod umożliwiający wyświetlenie modelu z użyciem podstawowych elementów BPMN:"
   ]
  },
  {
   "cell_type": "code",
   "metadata": {
    "colab": {
     "base_uri": "https://localhost:8080/",
     "height": 203
    },
    "id": "4npmdlixbrN0",
    "outputId": "8f456369-4709-47dd-c834-fa615fd30bae",
    "pycharm": {
     "name": "#%%\n"
    }
   },
   "source": [
    "class MyGraph(pgv.AGraph):\n",
    " \n",
    "    def __init__(self, *args):\n",
    "        super(MyGraph, self).__init__(strict=False, directed=True, *args)\n",
    "        self.graph_attr['rankdir'] = 'LR'\n",
    "        self.node_attr['shape'] = 'Mrecord'\n",
    "        self.graph_attr['splines'] = 'ortho'\n",
    "        self.graph_attr['nodesep'] = '0.8'\n",
    "        self.edge_attr.update(penwidth='2')\n",
    " \n",
    "    def add_event(self, name):\n",
    "        super(MyGraph, self).add_node(name, shape=\"circle\", label=\"\")\n",
    "\n",
    "    def get_node(self,name):\n",
    "        return super(MyGraph, self).get_node(name)\n",
    "\n",
    "    def get_edges(self):\n",
    "        return super(MyGraph, self).edges()\n",
    " \n",
    "    def add_end_event(self, name):\n",
    "        super(MyGraph, self).add_node(name, shape=\"circle\", label=\"\",penwidth='3')\n",
    "\n",
    "    def add_and_gateway(self, *args):\n",
    "        super(MyGraph, self).add_node(*args, shape=\"diamond\",\n",
    "                                  width=\".7\",height=\".7\",\n",
    "                                  fixedsize=\"true\",\n",
    "                                  fontsize=\"40\",label=\"+\")\n",
    " \n",
    "    def add_xor_gateway(self, *args, **kwargs):\n",
    "        super(MyGraph, self).add_node(*args, shape=\"diamond\",\n",
    "                                  width=\".7\",height=\".7\",\n",
    "                                  fixedsize=\"true\",\n",
    "                                  fontsize=\"40\",label=\"×\")\n",
    "    def add_xor_inclusive_gateway(self, *args, **kwargs):\n",
    "        super(MyGraph, self).add_node(*args, shape=\"diamond\",\n",
    "                                  width=\".7\",height=\".7\",\n",
    "                                  fixedsize=\"true\",\n",
    "                                  fontsize=\"40\",label=\"o\")\n",
    "        \n",
    "    def add_event_gateway(self, source, targets, *args):\n",
    "        gateway = 'EVENTs '+str(source)+'->'+str(targets)        \n",
    "        self.add_xor_inclusive_gateway(gateway,*args)\n",
    "        super(MyGraph, self).add_edge(source, gateway)\n",
    "        for target in targets:\n",
    "            super(MyGraph, self).add_edge(gateway, target)\n",
    " \n",
    "    def add_and_split_gateway(self, source, targets, *args):\n",
    "        gateway = 'ANDs '+str(source)+'->'+str(targets)        \n",
    "        self.add_and_gateway(gateway,*args)\n",
    "        super(MyGraph, self).add_edge(source, gateway)\n",
    "        for target in targets:\n",
    "            super(MyGraph, self).add_edge(gateway, target)\n",
    " \n",
    "    def add_xor_split_gateway(self, source, targets, *args):\n",
    "        gateway = 'XORs '+str(source)+'->'+str(targets) \n",
    "        self.add_xor_gateway(gateway, *args)\n",
    "        super(MyGraph, self).add_edge(source, gateway)\n",
    "        for target in targets:\n",
    "            super(MyGraph, self).add_edge(gateway, target)\n",
    " \n",
    "    def add_event_merge_gateway(self, sources, target, *args):\n",
    "        gateway = 'EVENTm '+str(sources)+'->'+str(target)\n",
    "        self.add_xor_inclusive_gateway(gateway,*args)\n",
    "        super(MyGraph, self).add_edge(gateway,target)\n",
    "        for source in sources:\n",
    "            super(MyGraph, self).add_edge(source, gateway)\n",
    "\n",
    "    def add_and_merge_gateway(self, sources, target, *args):\n",
    "        gateway = 'ANDm '+str(sources)+'->'+str(target)\n",
    "        self.add_and_gateway(gateway,*args)\n",
    "        super(MyGraph, self).add_edge(gateway,target)\n",
    "        for source in sources:\n",
    "            super(MyGraph, self).add_edge(source, gateway)\n",
    " \n",
    "    def add_xor_merge_gateway(self, sources, target, *args):\n",
    "        gateway = 'XORm '+str(sources)+'->'+str(target)\n",
    "        self.add_xor_gateway(gateway, *args)\n",
    "        super(MyGraph, self).add_edge(gateway,target)\n",
    "        for source in sources:\n",
    "            super(MyGraph, self).add_edge(source, gateway)\n",
    "\n",
    "    def add_xor_to_and_gateway(self, sources, targets, *args):\n",
    "        gateway_xor = 'XORm '+str(sources)+'->'+str(targets)\n",
    "        gateway_and = 'ANDs '+str(sources)+'->'+str(targets)\n",
    "        self.add_xor_gateway(gateway_xor, *args)\n",
    "        self.add_and_gateway(gateway_and, *args)\n",
    "        super(MyGraph, self).add_edge(gateway_xor,gateway_and)\n",
    "        for source in sources:\n",
    "            super(MyGraph, self).add_edge(source, gateway_xor)\n",
    "        for target in targets:\n",
    "            super(MyGraph, self).add_edge(gateway_and, target)\n",
    "\n",
    "G = MyGraph()\n",
    "\n",
    "# adding start event\n",
    "G.add_event(\"start\")\n",
    "if len(start_set_events) > 1:\n",
    "    if tuple(start_set_events) in parallel_events: \n",
    "        G.add_and_split_gateway(\"start\",start_set_events)\n",
    "    else:\n",
    "        G.add_xor_split_gateway(\"start\",start_set_events)\n",
    "else: \n",
    "    G.add_edge(\"start\",list(start_set_events)[0])\n",
    "\n",
    "# adding split gateways based on causality\n",
    "for event in causality:\n",
    "    if len(causality[event]) > 1:\n",
    "        if tuple(causality[event]) in parallel_events:        \n",
    "            G.add_and_split_gateway(event,causality[event])\n",
    "        else:\n",
    "            G.add_xor_split_gateway(event,causality[event])\n",
    " \n",
    "# adding merge gateways based on inverted causality\n",
    "for event in inv_causality:\n",
    "    if len(inv_causality[event]) > 1:\n",
    "        if tuple(inv_causality[event]) in parallel_events:\n",
    "            G.add_and_merge_gateway(inv_causality[event],event)\n",
    "        else:\n",
    "            G.add_xor_merge_gateway(inv_causality[event],event)\n",
    "    elif len(inv_causality[event]) == 1:\n",
    "        source = list(inv_causality[event])[0]\n",
    "        G.add_edge(source,event)\n",
    "\n",
    "# adding end event\n",
    "G.add_end_event(\"end\")\n",
    "if len(end_set_events) > 1:\n",
    "    if tuple(end_set_events) in parallel_events: \n",
    "        G.add_and_merge_gateway(end_set_events,\"end\")\n",
    "    else:\n",
    "        G.add_xor_merge_gateway(end_set_events,\"end\")    \n",
    "else: \n",
    "    G.add_edge(list(end_set_events)[0],\"end\")\n",
    "\n",
    "G.draw('simple_process_model.png', prog='dot')\n",
    "display(Image('simple_process_model.png'))"
   ],
   "execution_count": 19,
   "outputs": [
    {
     "output_type": "display_data",
     "data": {
      "text/plain": [
       "<IPython.core.display.Image object>"
      ],
      "image/png": "[encoded data removed]"
     },
     "metadata": {}
    }
   ]
  },
  {
   "cell_type": "code",
   "source": [
    "def get_start_set_events(events_tab):\n",
    "  start_set_events = set()\n",
    "  for line in events_tab:\n",
    "    start_set_events.add(line[0])\n",
    "  \n",
    "  return start_set_events\n",
    "\n",
    "\n",
    "def get_end_set_events(events_tab):\n",
    "  end_set_events = set()\n",
    "  for line in events_tab:\n",
    "    end_set_events.add(line[len(line)-1])\n",
    "  \n",
    "  return end_set_events\n",
    "\n",
    "def get_direct_successtion(events):\n",
    "  direct_new = {}\n",
    "  unique_elements = []\n",
    "  for r in events:\n",
    "   for c in r:\n",
    "      if c not in unique_elements:\n",
    "        unique_elements.append(c)\n",
    "  unique_elements = sorted(unique_elements)\n",
    "  for ue in unique_elements:\n",
    "    relations = set()\n",
    "    for r in events:\n",
    "      for index, c in enumerate(r):\n",
    "        if c == ue and int(len(r)) > int(index+1):\n",
    "          relations.add(r[index+1])\n",
    "    if len(relations) > 0:\n",
    "      direct_new[ue] = relations\n",
    "    else: \n",
    "      direct_new[ue] = {}\n",
    "      \n",
    "  return direct_new\n",
    "\n",
    "\n",
    "def get_causality(direct_succession) -> Dict[str, Set[str]]:\n",
    "    causality = defaultdict(set)\n",
    "    for ev_cause, events in direct_succession.items():\n",
    "        for event in events:\n",
    "            if ev_cause not in direct_succession.get(event, set()):\n",
    "                causality[ev_cause].add(event)\n",
    "\n",
    "    return dict(causality)\n",
    "\n",
    "\n",
    "def get_potential_parallelism(direct_succession) -> Dict[str, Set[str]]:\n",
    "  potential_parallelism = []\n",
    "  for ev_cause, events in direct_succession.items():\n",
    "    tmp = []\n",
    "    for event in events:\n",
    "      if ev_cause in direct_succession.get(event, set()):\n",
    "        if ev_cause not in tmp:\n",
    "          tmp.append(ev_cause)\n",
    "        tmp.append(event)\n",
    "        \n",
    "    if len(tmp) > 0:\n",
    "      potential_parallelism.append(tuple(tmp))  \n",
    "  if len(potential_parallelism) > 0:\n",
    "    potential_parallelism.append(tuple(sorted(potential_parallelism[0]))) \n",
    "\n",
    "  return potential_parallelism\n",
    "\n",
    "\n",
    "def get_inv_causality(causality) -> Dict[str, Set[str]]:\n",
    "    inv_causality = defaultdict(set)\n",
    "    for key, values in causality.items():\n",
    "        for value in values: \n",
    "          inv_causality[value].add(key)\n",
    "          \n",
    "    return {k: v for k, v in inv_causality.items() if len(v) > 1}"
   ],
   "metadata": {
    "id": "pdCPrdXAYCZ5",
    "pycharm": {
     "name": "#%%\n"
    }
   },
   "execution_count": 26,
   "outputs": []
  },
  {
   "cell_type": "code",
   "source": [
    "def draw_graph(events):\n",
    "\n",
    "  events_tab = []\n",
    "  for line in events.splitlines():\n",
    "      events_tab.append(line.split())\n",
    "\n",
    "  start_set_events = get_start_set_events(events_tab)\n",
    "  end_set_events = get_end_set_events(events_tab)\n",
    "  direct_succession = get_direct_successtion(events_tab)\n",
    "  parallel_events = get_potential_parallelism(direct_succession)\n",
    "  causality = get_causality(direct_succession)\n",
    "  inv_causality = get_inv_causality(causality)\n",
    "\n",
    "  G = MyGraph()\n",
    "\n",
    "  # adding start event\n",
    "  G.add_event(\"start\")\n",
    "  if len(start_set_events) > 1:\n",
    "      if tuple(start_set_events) in sorted(parallel_events): \n",
    "          G.add_and_split_gateway(\"start\",start_set_events)\n",
    "\n",
    "      else:\n",
    "          G.add_xor_split_gateway(\"start\",start_set_events)\n",
    "  else: \n",
    "      G.add_edge(\"start\",list(start_set_events)[0])\n",
    "\n",
    "  # adding split gateways based on causality\n",
    "  for event in causality:\n",
    "      if len(causality[event]) > 1 and tuple(causality[event]) != tuple(inv_causality.keys()):\n",
    "          if tuple(causality[event]) in parallel_events:    \n",
    "              \n",
    "              to_check = list(causality[event])\n",
    "              is_event = False\n",
    "              for eventeee in events_tab:\n",
    "                if len(to_check) != len(list(set(sorted(to_check)).intersection(sorted(set(eventeee))))):\n",
    "                  is_event = True\n",
    "       \n",
    "              if is_event:\n",
    "                G.add_event_gateway(event,causality[event])\n",
    "              else: \n",
    "                G.add_and_split_gateway(event,causality[event])           \n",
    "          else:\n",
    "              G.add_xor_split_gateway(event,causality[event])\n",
    "\n",
    "  # adding merge gateways based on inverted causality\n",
    "  for event in inv_causality:\n",
    "      if len(inv_causality[event]) > 1 and tuple(sorted(inv_causality[event])) != tuple(sorted(causality.keys())):\n",
    "          if tuple(inv_causality[event]) in parallel_events:\n",
    "              to_check = list(inv_causality[event])\n",
    "              is_event = False\n",
    "              for eventeee in events_tab:\n",
    "                if len(to_check) != len(list(set(sorted(to_check)).intersection(sorted(set(eventeee))))):\n",
    "                  is_event = True\n",
    "              \n",
    "              if is_event:\n",
    "                G.add_event_merge_gateway(inv_causality[event],event)\n",
    "              else: \n",
    "                G.add_and_merge_gateway(inv_causality[event],event)\n",
    "\n",
    "          else:\n",
    "              G.add_xor_merge_gateway(inv_causality[event],event)\n",
    "      elif len(inv_causality[event]) == 1:\n",
    "          source = list(inv_causality[event])[0]\n",
    "          G.add_edge(source,event)\n",
    "\n",
    "  xor_merge_gateways = set()\n",
    "  for event in inv_causality:\n",
    "    if (len(inv_causality[event]) > 1 and tuple(sorted(inv_causality[event])) == tuple(sorted(causality.keys()))):\n",
    "      xor_merge_gateways.add(tuple(sorted(inv_causality[event])))\n",
    "\n",
    "  # print(xor_merge_gateways)\n",
    "  for create_gateway_event in xor_merge_gateways:\n",
    "     G.add_xor_to_and_gateway(inv_causality[event],tuple(inv_causality.keys()))\n",
    "\n",
    "  end_to_delete = False\n",
    "  for end_event in end_set_events:\n",
    "      for start_event in start_set_events:\n",
    "        try:\n",
    "          if tuple(causality[end_event]) == tuple(start_event):\n",
    "            G.add_xor_split_gateway(end_event, (start_event,\"end\"))\n",
    "            end_to_delete = True\n",
    "        except:\n",
    "          print('Except')\n",
    "\n",
    "  # adding end event\n",
    "  G.add_end_event(\"end\")\n",
    "  if len(end_set_events) > 1 and end_to_delete == False:\n",
    "      if tuple(end_set_events) in parallel_events: \n",
    "          G.add_and_merge_gateway(end_set_events,\"end\")\n",
    "      else:\n",
    "          G.add_xor_merge_gateway(end_set_events,\"end\")    \n",
    "  elif end_to_delete == False: \n",
    "      G.add_edge(list(end_set_events)[0],\"end\")\n",
    "\n",
    "  add_edges_list = []\n",
    "  for sucession in direct_succession:\n",
    "    found_count = 0\n",
    "    for test in direct_succession:\n",
    "      if test != sucession:\n",
    "        if sucession in direct_succession[test]:\n",
    "          found_count = found_count + 1\n",
    "    if(found_count == len(direct_succession) -1):\n",
    "      add_edges_list.append(sucession);\n",
    "\n",
    "  for single_causality in causality:\n",
    "    to_check = causality[single_causality]\n",
    "    found_count = 1\n",
    "    for test in causality:\n",
    "      if test != single_causality:\n",
    "        if to_check == causality[test]:\n",
    "          found_count = found_count + 1      \n",
    "    if len(to_check) == 1 and found_count == 1 and list(to_check)[0] in add_edges_list:\n",
    "      G.add_edge(single_causality,list(to_check)[0])\n",
    "    \n",
    "  G.draw('simple_process_model.png', prog='dot')\n",
    "  display(Image('simple_process_model.png'))"
   ],
   "metadata": {
    "id": "u6xEBGWXXyxL",
    "pycharm": {
     "name": "#%%\n"
    }
   },
   "execution_count": 34,
   "outputs": []
  },
  {
   "cell_type": "code",
   "source": [
    "# A1\n",
    "\n",
    "events = \"\"\"b c d e \n",
    "b c e d \n",
    "a c d e \n",
    "a c e d \n",
    "\"\"\"\n",
    "\n",
    "draw_graph(events)\n",
    "\n"
   ],
   "metadata": {
    "colab": {
     "base_uri": "https://localhost:8080/",
     "height": 274
    },
    "id": "7kGUaElQY3PF",
    "outputId": "2387ff26-5def-41be-f9af-6c0cd4b76e4f",
    "pycharm": {
     "name": "#%%\n"
    }
   },
   "execution_count": 35,
   "outputs": [
    {
     "output_type": "stream",
     "name": "stdout",
     "text": [
      "Except\n",
      "Except\n",
      "Except\n",
      "Except\n"
     ]
    },
    {
     "output_type": "display_data",
     "data": {
      "text/plain": [
       "<IPython.core.display.Image object>"
      ],
      "image/png": "[encoded data removed]"
     },
     "metadata": {}
    }
   ]
  },
  {
   "cell_type": "code",
   "source": [
    "# A2\n",
    "events = \"\"\"a b c d e g \n",
    "a b c d f g \n",
    "a c b d e g \n",
    "a c b d f g \n",
    "\"\"\"\n",
    "\n",
    "draw_graph(events)"
   ],
   "metadata": {
    "colab": {
     "base_uri": "https://localhost:8080/",
     "height": 184
    },
    "id": "7TnLDH5DZPFZ",
    "outputId": "17340e96-68fd-487a-8f83-73c64f635e57",
    "pycharm": {
     "name": "#%%\n"
    }
   },
   "execution_count": 36,
   "outputs": [
    {
     "output_type": "stream",
     "name": "stdout",
     "text": [
      "Except\n"
     ]
    },
    {
     "output_type": "display_data",
     "data": {
      "text/plain": [
       "<IPython.core.display.Image object>"
      ],
      "image/png": "[encoded data removed]"
     },
     "metadata": {}
    }
   ]
  },
  {
   "cell_type": "code",
   "source": [
    "# A3\n",
    "events = \"\"\"a c d\n",
    "a d c\n",
    "b c d\n",
    "b d c\n",
    "\"\"\"\n",
    "\n",
    "draw_graph(events)"
   ],
   "metadata": {
    "colab": {
     "base_uri": "https://localhost:8080/",
     "height": 275
    },
    "id": "FV7-xCueZZo3",
    "outputId": "5db9d6d5-c317-44f4-bb88-dfc069e2d2e8",
    "pycharm": {
     "name": "#%%\n"
    }
   },
   "execution_count": 37,
   "outputs": [
    {
     "output_type": "stream",
     "name": "stdout",
     "text": [
      "Except\n",
      "Except\n",
      "Except\n",
      "Except\n"
     ]
    },
    {
     "output_type": "display_data",
     "data": {
      "text/plain": [
       "<IPython.core.display.Image object>"
      ],
      "image/png": "[encoded data removed]"
     },
     "metadata": {}
    }
   ]
  },
  {
   "cell_type": "code",
   "source": [
    "# A4\n",
    "events = \"\"\"a b c d e g \n",
    "a b c d f g \n",
    "a c b d e g \n",
    "a c b d f g \n",
    "a b c d e g a c b d f g \n",
    "a b c d f g a b c d f g \n",
    "a c b d e g a b c d e g \n",
    "a c b d f g a b c d e g \n",
    "a b c d f g a c b d e g \n",
    "\"\"\"\n",
    "\n",
    "draw_graph(events)"
   ],
   "metadata": {
    "colab": {
     "base_uri": "https://localhost:8080/",
     "height": 308
    },
    "id": "Aak7PPV4p10Y",
    "outputId": "1d05a3cc-7e98-4e6b-903b-eade89b622f2",
    "pycharm": {
     "name": "#%%\n"
    }
   },
   "execution_count": 38,
   "outputs": [
    {
     "output_type": "display_data",
     "data": {
      "text/plain": [
       "<IPython.core.display.Image object>"
      ],
      "image/png": "[encoded data removed]"
     },
     "metadata": {}
    }
   ]
  },
  {
   "cell_type": "code",
   "source": [
    "# A5\n",
    "events = \"\"\"a b e f g h i \n",
    "a c e f g h i \n",
    "a d e f g h i \n",
    "a b e f h g i \n",
    "a c e f h g i \n",
    "a d e f h g i \n",
    "a b e g f h i \n",
    "a c e g f h i \n",
    "a d e g f h i \n",
    "a b e g h f i \n",
    "a c e g h f i \n",
    "a d e g h f i \n",
    "a b e h g f i \n",
    "a c e h g f i \n",
    "a d e h g f i \n",
    "a b e h f g i \n",
    "a c e h f g i \n",
    "a d e h f g i \n",
    "\"\"\"\n",
    "\n",
    "draw_graph(events)"
   ],
   "metadata": {
    "colab": {
     "base_uri": "https://localhost:8080/",
     "height": 284
    },
    "id": "rY7cEmNPu8tA",
    "outputId": "ed7d59be-998a-446a-aa66-d6e5a9ec9c69",
    "pycharm": {
     "name": "#%%\n"
    }
   },
   "execution_count": 39,
   "outputs": [
    {
     "output_type": "stream",
     "name": "stdout",
     "text": [
      "Except\n"
     ]
    },
    {
     "output_type": "display_data",
     "data": {
      "text/plain": [
       "<IPython.core.display.Image object>"
      ],
      "image/png": "[encoded data removed]"
     },
     "metadata": {}
    }
   ]
  },
  {
   "cell_type": "code",
   "source": [
    "# A6\n",
    "events = \"\"\"a b c d e f \n",
    "a c b d e f \n",
    "a b c d f \n",
    "a c b d f \n",
    "a c d e f \n",
    "a b d e f \n",
    "a c d f \n",
    "a b d f \n",
    "\"\"\"\n",
    "\n",
    "draw_graph(events)"
   ],
   "metadata": {
    "colab": {
     "base_uri": "https://localhost:8080/",
     "height": 240
    },
    "id": "dvxVlmGIvFKS",
    "outputId": "6f7a2208-49d7-486c-90b4-db8c881e7904",
    "pycharm": {
     "name": "#%%\n"
    }
   },
   "execution_count": 40,
   "outputs": [
    {
     "output_type": "stream",
     "name": "stdout",
     "text": [
      "Except\n"
     ]
    },
    {
     "output_type": "display_data",
     "data": {
      "text/plain": [
       "<IPython.core.display.Image object>"
      ],
      "image/png": "[encoded data removed]"
     },
     "metadata": {}
    }
   ]
  },
  {
   "cell_type": "code",
   "source": [
    "# A7\n",
    "events = \"\"\"a f b c g \n",
    "a f b d g \n",
    "a b f c g \n",
    "a b f d g \n",
    "a b c f g \n",
    "a b d f g \n",
    "a b c g f \n",
    "a b d g f \n",
    "b a f c g \n",
    "b a f d g \n",
    "b a c f g \n",
    "b a d f g \n",
    "b a c g f \n",
    "b a d g f \n",
    "b c a f g \n",
    "b d a f g \n",
    "b c a g f \n",
    "b d a g f \n",
    "b c g a f \n",
    "b d g a f \n",
    "\"\"\"\n",
    "\n",
    "draw_graph(events)"
   ],
   "metadata": {
    "colab": {
     "base_uri": "https://localhost:8080/",
     "height": 413
    },
    "id": "mHx5PgO7x5DU",
    "outputId": "e9202ab8-900c-4b14-c952-5a71ba0cca5f",
    "pycharm": {
     "name": "#%%\n"
    }
   },
   "execution_count": 41,
   "outputs": [
    {
     "output_type": "stream",
     "name": "stdout",
     "text": [
      "Except\n",
      "Except\n",
      "Except\n",
      "Except\n"
     ]
    },
    {
     "output_type": "display_data",
     "data": {
      "text/plain": [
       "<IPython.core.display.Image object>"
      ],
      "image/png": "[encoded data removed]"
     },
     "metadata": {}
    }
   ]
  },
  {
   "cell_type": "code",
   "source": [
    "# A8\n",
    "events = \"\"\"a b c e l \n",
    "a b d e l \n",
    "a f g l \n",
    "a h i j k l \n",
    "a h j i k l \n",
    "\"\"\"\n",
    "\n",
    "draw_graph(events)"
   ],
   "metadata": {
    "colab": {
     "base_uri": "https://localhost:8080/",
     "height": 391
    },
    "id": "ChXIC2GW3OPw",
    "outputId": "667bb37b-8141-4a50-bd36-2a4d06377cf9",
    "pycharm": {
     "name": "#%%\n"
    }
   },
   "execution_count": 42,
   "outputs": [
    {
     "output_type": "stream",
     "name": "stdout",
     "text": [
      "Except\n"
     ]
    },
    {
     "output_type": "display_data",
     "data": {
      "text/plain": [
       "<IPython.core.display.Image object>"
      ],
      "image/png": "[encoded data removed]"
     },
     "metadata": {}
    }
   ]
  },
  {
   "cell_type": "code",
   "source": [
    "# A9\n",
    "events = \"\"\"a b c d e \n",
    "a b d c e \n",
    "a c b d e \n",
    "a c d b e \n",
    "a d b c e \n",
    "a d c b e \n",
    "a b c e \n",
    "a b d e \n",
    "a c b e \n",
    "a c d e \n",
    "a d b e \n",
    "a d c e \n",
    "a b e \n",
    "a c e \n",
    "a d e \n",
    "\"\"\"\n",
    "\n",
    "draw_graph(events)"
   ],
   "metadata": {
    "colab": {
     "base_uri": "https://localhost:8080/",
     "height": 348
    },
    "id": "9o1qR2143eKP",
    "outputId": "a4e52ce0-51e6-409c-8c65-193e3f98907a",
    "pycharm": {
     "name": "#%%\n"
    }
   },
   "execution_count": 43,
   "outputs": [
    {
     "output_type": "stream",
     "name": "stdout",
     "text": [
      "Except\n"
     ]
    },
    {
     "output_type": "display_data",
     "data": {
      "text/plain": [
       "<IPython.core.display.Image object>"
      ],
      "image/png": "[encoded data removed]"
     },
     "metadata": {}
    }
   ]
  },
  {
   "cell_type": "code",
   "source": [
    "from opyenxes.data_in.XUniversalParser import XUniversalParser\n",
    "import pandas as pd\n",
    "\n",
    "file_name = \"A1.csv\"\n",
    "\n",
    "f = open(file_name, \"r\")\n",
    "if f.name.endswith('.csv'):\n",
    "  print('csv')\n",
    "  df = pd.read_csv(file_name)\n",
    "elif f.name.endswith('.xes'):\n",
    "  print('xes')\n",
    "  with open(file_name) as log_file:\n",
    "    # parse the log\n",
    "    log = XUniversalParser().parse(log_file)[0]  \n",
    "else:\n",
    "  print('Nie rozpoznano pliku')"
   ],
   "metadata": {
    "colab": {
     "base_uri": "https://localhost:8080/"
    },
    "id": "fQiOnYHhDFHp",
    "outputId": "f335f87d-3a32-45f7-8bf9-293eff0b8c00",
    "pycharm": {
     "name": "#%%\n"
    }
   },
   "execution_count": 49,
   "outputs": [
    {
     "output_type": "stream",
     "name": "stdout",
     "text": [
      "csv\n"
     ]
    }
   ]
  },
  {
   "cell_type": "code",
   "source": [
    "# XES\n",
    "\n",
    "event = log[0][0]\n",
    "event.get_attributes()"
   ],
   "metadata": {
    "colab": {
     "base_uri": "https://localhost:8080/"
    },
    "id": "HVIeoIbaDrZN",
    "outputId": "8a57a656-66ae-4edc-e65f-0e09ba589cf4",
    "pycharm": {
     "name": "#%%\n"
    }
   },
   "execution_count": 50,
   "outputs": [
    {
     "output_type": "execute_result",
     "data": {
      "text/plain": [
       "{'Activity': <opyenxes.model.XAttributeLiteral.XAttributeLiteral at 0x7f0c2edf8090>,\n",
       " 'concept:name': <opyenxes.model.XAttributeLiteral.XAttributeLiteral at 0x7f0c2edeaed0>,\n",
       " 'lifecycle:transition': <opyenxes.model.XAttributeLiteral.XAttributeLiteral at 0x7f0c2edea850>,\n",
       " 'time:timestamp': <opyenxes.model.XAttributeTimestamp.XAttributeTimestamp at 0x7f0c2edeafd0>}"
      ]
     },
     "metadata": {},
     "execution_count": 50
    }
   ]
  },
  {
   "cell_type": "code",
   "source": [
    "events_xes = []\n",
    "for trace in log: \n",
    "    events_w = []\n",
    "    for event in trace[0::]:\n",
    "        name = event.get_attributes()['Activity'].get_value()\n",
    "        events_w.append(name)\n",
    "    events_xes.append(events_w)\n",
    "\n",
    "events_xes"
   ],
   "metadata": {
    "colab": {
     "base_uri": "https://localhost:8080/"
    },
    "id": "CvcT0cVODt9w",
    "outputId": "e87431ca-954f-4514-b5ed-f245004a0570",
    "pycharm": {
     "name": "#%%\n"
    }
   },
   "execution_count": 51,
   "outputs": [
    {
     "output_type": "execute_result",
     "data": {
      "text/plain": [
       "[['b', 'c', 'd', 'e'],\n",
       " ['b', 'c', 'e', 'd'],\n",
       " ['a', 'c', 'd', 'e'],\n",
       " ['a', 'c', 'e', 'd']]"
      ]
     },
     "metadata": {},
     "execution_count": 51
    }
   ]
  },
  {
   "cell_type": "code",
   "source": [
    "# CSV\n",
    "\n",
    "df.head(100)"
   ],
   "metadata": {
    "colab": {
     "base_uri": "https://localhost:8080/",
     "height": 551
    },
    "id": "cf4wo0hXlFP7",
    "outputId": "6a719074-4587-4429-ef4c-5d6e865a2896",
    "pycharm": {
     "name": "#%%\n"
    }
   },
   "execution_count": 52,
   "outputs": [
    {
     "output_type": "execute_result",
     "data": {
      "text/plain": [
       "    Case ID Activity Start Timestamp\n",
       "0         1        b  01.04.21 22:10\n",
       "1         1        c  01.04.21 22:11\n",
       "2         1        d  01.04.21 22:12\n",
       "3         1        e  01.04.21 22:13\n",
       "4         2        b  01.04.21 22:10\n",
       "5         2        c  01.04.21 22:11\n",
       "6         2        e  01.04.21 22:12\n",
       "7         2        d  01.04.21 22:13\n",
       "8         3        a  01.04.21 22:10\n",
       "9         3        c  01.04.21 22:11\n",
       "10        3        d  01.04.21 22:12\n",
       "11        3        e  01.04.21 22:13\n",
       "12        4        a  01.04.21 22:10\n",
       "13        4        c  01.04.21 22:11\n",
       "14        4        e  01.04.21 22:12\n",
       "15        4        d  01.04.21 22:13"
      ],
      "text/html": [
       "\n",
       "  <div id=\"df-2c90012d-375c-4096-ae7c-eb9e2db67f61\">\n",
       "    <div class=\"colab-df-container\">\n",
       "      <div>\n",
       "<style scoped>\n",
       "    .dataframe tbody tr th:only-of-type {\n",
       "        vertical-align: middle;\n",
       "    }\n",
       "\n",
       "    .dataframe tbody tr th {\n",
       "        vertical-align: top;\n",
       "    }\n",
       "\n",
       "    .dataframe thead th {\n",
       "        text-align: right;\n",
       "    }\n",
       "</style>\n",
       "<table border=\"1\" class=\"dataframe\">\n",
       "  <thead>\n",
       "    <tr style=\"text-align: right;\">\n",
       "      <th></th>\n",
       "      <th>Case ID</th>\n",
       "      <th>Activity</th>\n",
       "      <th>Start Timestamp</th>\n",
       "    </tr>\n",
       "  </thead>\n",
       "  <tbody>\n",
       "    <tr>\n",
       "      <th>0</th>\n",
       "      <td>1</td>\n",
       "      <td>b</td>\n",
       "      <td>01.04.21 22:10</td>\n",
       "    </tr>\n",
       "    <tr>\n",
       "      <th>1</th>\n",
       "      <td>1</td>\n",
       "      <td>c</td>\n",
       "      <td>01.04.21 22:11</td>\n",
       "    </tr>\n",
       "    <tr>\n",
       "      <th>2</th>\n",
       "      <td>1</td>\n",
       "      <td>d</td>\n",
       "      <td>01.04.21 22:12</td>\n",
       "    </tr>\n",
       "    <tr>\n",
       "      <th>3</th>\n",
       "      <td>1</td>\n",
       "      <td>e</td>\n",
       "      <td>01.04.21 22:13</td>\n",
       "    </tr>\n",
       "    <tr>\n",
       "      <th>4</th>\n",
       "      <td>2</td>\n",
       "      <td>b</td>\n",
       "      <td>01.04.21 22:10</td>\n",
       "    </tr>\n",
       "    <tr>\n",
       "      <th>5</th>\n",
       "      <td>2</td>\n",
       "      <td>c</td>\n",
       "      <td>01.04.21 22:11</td>\n",
       "    </tr>\n",
       "    <tr>\n",
       "      <th>6</th>\n",
       "      <td>2</td>\n",
       "      <td>e</td>\n",
       "      <td>01.04.21 22:12</td>\n",
       "    </tr>\n",
       "    <tr>\n",
       "      <th>7</th>\n",
       "      <td>2</td>\n",
       "      <td>d</td>\n",
       "      <td>01.04.21 22:13</td>\n",
       "    </tr>\n",
       "    <tr>\n",
       "      <th>8</th>\n",
       "      <td>3</td>\n",
       "      <td>a</td>\n",
       "      <td>01.04.21 22:10</td>\n",
       "    </tr>\n",
       "    <tr>\n",
       "      <th>9</th>\n",
       "      <td>3</td>\n",
       "      <td>c</td>\n",
       "      <td>01.04.21 22:11</td>\n",
       "    </tr>\n",
       "    <tr>\n",
       "      <th>10</th>\n",
       "      <td>3</td>\n",
       "      <td>d</td>\n",
       "      <td>01.04.21 22:12</td>\n",
       "    </tr>\n",
       "    <tr>\n",
       "      <th>11</th>\n",
       "      <td>3</td>\n",
       "      <td>e</td>\n",
       "      <td>01.04.21 22:13</td>\n",
       "    </tr>\n",
       "    <tr>\n",
       "      <th>12</th>\n",
       "      <td>4</td>\n",
       "      <td>a</td>\n",
       "      <td>01.04.21 22:10</td>\n",
       "    </tr>\n",
       "    <tr>\n",
       "      <th>13</th>\n",
       "      <td>4</td>\n",
       "      <td>c</td>\n",
       "      <td>01.04.21 22:11</td>\n",
       "    </tr>\n",
       "    <tr>\n",
       "      <th>14</th>\n",
       "      <td>4</td>\n",
       "      <td>e</td>\n",
       "      <td>01.04.21 22:12</td>\n",
       "    </tr>\n",
       "    <tr>\n",
       "      <th>15</th>\n",
       "      <td>4</td>\n",
       "      <td>d</td>\n",
       "      <td>01.04.21 22:13</td>\n",
       "    </tr>\n",
       "  </tbody>\n",
       "</table>\n",
       "</div>\n",
       "      <button class=\"colab-df-convert\" onclick=\"convertToInteractive('df-2c90012d-375c-4096-ae7c-eb9e2db67f61')\"\n",
       "              title=\"Convert this dataframe to an interactive table.\"\n",
       "              style=\"display:none;\">\n",
       "        \n",
       "  <svg xmlns=\"http://www.w3.org/2000/svg\" height=\"24px\"viewBox=\"0 0 24 24\"\n",
       "       width=\"24px\">\n",
       "    <path d=\"M0 0h24v24H0V0z\" fill=\"none\"/>\n",
       "    <path d=\"M18.56 5.44l.94 2.06.94-2.06 2.06-.94-2.06-.94-.94-2.06-.94 2.06-2.06.94zm-11 1L8.5 8.5l.94-2.06 2.06-.94-2.06-.94L8.5 2.5l-.94 2.06-2.06.94zm10 10l.94 2.06.94-2.06 2.06-.94-2.06-.94-.94-2.06-.94 2.06-2.06.94z\"/><path d=\"M17.41 7.96l-1.37-1.37c-.4-.4-.92-.59-1.43-.59-.52 0-1.04.2-1.43.59L10.3 9.45l-7.72 7.72c-.78.78-.78 2.05 0 2.83L4 21.41c.39.39.9.59 1.41.59.51 0 1.02-.2 1.41-.59l7.78-7.78 2.81-2.81c.8-.78.8-2.07 0-2.86zM5.41 20L4 18.59l7.72-7.72 1.47 1.35L5.41 20z\"/>\n",
       "  </svg>\n",
       "      </button>\n",
       "      \n",
       "  <style>\n",
       "    .colab-df-container {\n",
       "      display:flex;\n",
       "      flex-wrap:wrap;\n",
       "      gap: 12px;\n",
       "    }\n",
       "\n",
       "    .colab-df-convert {\n",
       "      background-color: #E8F0FE;\n",
       "      border: none;\n",
       "      border-radius: 50%;\n",
       "      cursor: pointer;\n",
       "      display: none;\n",
       "      fill: #1967D2;\n",
       "      height: 32px;\n",
       "      padding: 0 0 0 0;\n",
       "      width: 32px;\n",
       "    }\n",
       "\n",
       "    .colab-df-convert:hover {\n",
       "      background-color: #E2EBFA;\n",
       "      box-shadow: 0px 1px 2px rgba(60, 64, 67, 0.3), 0px 1px 3px 1px rgba(60, 64, 67, 0.15);\n",
       "      fill: #174EA6;\n",
       "    }\n",
       "\n",
       "    [theme=dark] .colab-df-convert {\n",
       "      background-color: #3B4455;\n",
       "      fill: #D2E3FC;\n",
       "    }\n",
       "\n",
       "    [theme=dark] .colab-df-convert:hover {\n",
       "      background-color: #434B5C;\n",
       "      box-shadow: 0px 1px 3px 1px rgba(0, 0, 0, 0.15);\n",
       "      filter: drop-shadow(0px 1px 2px rgba(0, 0, 0, 0.3));\n",
       "      fill: #FFFFFF;\n",
       "    }\n",
       "  </style>\n",
       "\n",
       "      <script>\n",
       "        const buttonEl =\n",
       "          document.querySelector('#df-2c90012d-375c-4096-ae7c-eb9e2db67f61 button.colab-df-convert');\n",
       "        buttonEl.style.display =\n",
       "          google.colab.kernel.accessAllowed ? 'block' : 'none';\n",
       "\n",
       "        async function convertToInteractive(key) {\n",
       "          const element = document.querySelector('#df-2c90012d-375c-4096-ae7c-eb9e2db67f61');\n",
       "          const dataTable =\n",
       "            await google.colab.kernel.invokeFunction('convertToInteractive',\n",
       "                                                     [key], {});\n",
       "          if (!dataTable) return;\n",
       "\n",
       "          const docLinkHtml = 'Like what you see? Visit the ' +\n",
       "            '<a target=\"_blank\" href=https://colab.research.google.com/notebooks/data_table.ipynb>data table notebook</a>'\n",
       "            + ' to learn more about interactive tables.';\n",
       "          element.innerHTML = '';\n",
       "          dataTable['output_type'] = 'display_data';\n",
       "          await google.colab.output.renderOutput(dataTable, element);\n",
       "          const docLink = document.createElement('div');\n",
       "          docLink.innerHTML = docLinkHtml;\n",
       "          element.appendChild(docLink);\n",
       "        }\n",
       "      </script>\n",
       "    </div>\n",
       "  </div>\n",
       "  "
      ]
     },
     "metadata": {},
     "execution_count": 52
    }
   ]
  },
  {
   "cell_type": "code",
   "source": [
    "from dateutil.parser import parse\n",
    "\n",
    "def is_date(string, fuzzy=False):\n",
    "    try: \n",
    "        parse(string, fuzzy=fuzzy)\n",
    "        return True\n",
    "\n",
    "    except ValueError:\n",
    "        return False\n",
    "\n",
    "case_id = ''\n",
    "start_time = ''\n",
    "activity = ''\n",
    "\n",
    "if (case_id == '' or start_time == '' or activity == ''):  \n",
    "  for col in df.columns:\n",
    "    if(len(df.columns)<3):\n",
    "      print(\"Provided file cannot be used as an event log\") \n",
    "\n",
    "    if(len(df.columns)==3):\n",
    "      if (df[col].dtypes == 'int64'): \n",
    "        case_id = col\n",
    "      elif (is_date(df.loc[0, col]) == True):\n",
    "        start_time = col\n",
    "      elif (df[col].dtypes != 'int64' and is_date(df.loc[0, col]) == False):\n",
    "        activity = col\n",
    "      else:\n",
    "        case_id = input(\"Enter the name of id column: \")\n",
    "        activity = input(\"Enter the name of activity column: \")\n",
    "        start_time = input(\"Enter the name of timestamp column: \")\n",
    "\n",
    "    if(len(df.columns)>3):\n",
    "      if (df[col].dtypes == 'int64'): \n",
    "        case_id = col\n",
    "      elif (is_date(df.loc[0, col]) == True):\n",
    "        start_time = col\n",
    "        activity = input(\"Enter the name of activity column: \")\n",
    "      else:\n",
    "        case_id = input(\"Enter the name of id column: \")\n",
    "        activity = input(\"Enter the name of activity column: \")\n",
    "        start_time = input(\"Enter the name of timestamp column: \")\n",
    "\n",
    "print(start_time)\n",
    "print(case_id)\n",
    "print(activity)\n"
   ],
   "metadata": {
    "colab": {
     "base_uri": "https://localhost:8080/"
    },
    "id": "NH5BUTretQO1",
    "outputId": "44822d80-1e4c-4037-9952-b1434e039b69",
    "pycharm": {
     "name": "#%%\n"
    }
   },
   "execution_count": 55,
   "outputs": [
    {
     "output_type": "stream",
     "name": "stdout",
     "text": [
      "Start Timestamp\n",
      "Case ID\n",
      "Activity\n"
     ]
    }
   ]
  },
  {
   "cell_type": "code",
   "source": [
    "dfs = (df\n",
    "    .sort_values(by=[case_id, start_time])\n",
    "    .groupby([case_id])\n",
    "    .agg({activity: ' '.join})    \n",
    ")\n",
    "\n",
    "dfs.head()"
   ],
   "metadata": {
    "colab": {
     "base_uri": "https://localhost:8080/",
     "height": 206
    },
    "id": "oANruc1QiQNE",
    "outputId": "48f219d1-0af4-4aa7-ecf3-acf58cd7cd08",
    "pycharm": {
     "name": "#%%\n"
    }
   },
   "execution_count": 56,
   "outputs": [
    {
     "output_type": "execute_result",
     "data": {
      "text/plain": [
       "        Activity\n",
       "Case ID         \n",
       "1        b c d e\n",
       "2        b c e d\n",
       "3        a c d e\n",
       "4        a c e d"
      ],
      "text/html": [
       "\n",
       "  <div id=\"df-103aaa98-02a6-43b3-a03e-f448e50d8aae\">\n",
       "    <div class=\"colab-df-container\">\n",
       "      <div>\n",
       "<style scoped>\n",
       "    .dataframe tbody tr th:only-of-type {\n",
       "        vertical-align: middle;\n",
       "    }\n",
       "\n",
       "    .dataframe tbody tr th {\n",
       "        vertical-align: top;\n",
       "    }\n",
       "\n",
       "    .dataframe thead th {\n",
       "        text-align: right;\n",
       "    }\n",
       "</style>\n",
       "<table border=\"1\" class=\"dataframe\">\n",
       "  <thead>\n",
       "    <tr style=\"text-align: right;\">\n",
       "      <th></th>\n",
       "      <th>Activity</th>\n",
       "    </tr>\n",
       "    <tr>\n",
       "      <th>Case ID</th>\n",
       "      <th></th>\n",
       "    </tr>\n",
       "  </thead>\n",
       "  <tbody>\n",
       "    <tr>\n",
       "      <th>1</th>\n",
       "      <td>b c d e</td>\n",
       "    </tr>\n",
       "    <tr>\n",
       "      <th>2</th>\n",
       "      <td>b c e d</td>\n",
       "    </tr>\n",
       "    <tr>\n",
       "      <th>3</th>\n",
       "      <td>a c d e</td>\n",
       "    </tr>\n",
       "    <tr>\n",
       "      <th>4</th>\n",
       "      <td>a c e d</td>\n",
       "    </tr>\n",
       "  </tbody>\n",
       "</table>\n",
       "</div>\n",
       "      <button class=\"colab-df-convert\" onclick=\"convertToInteractive('df-103aaa98-02a6-43b3-a03e-f448e50d8aae')\"\n",
       "              title=\"Convert this dataframe to an interactive table.\"\n",
       "              style=\"display:none;\">\n",
       "        \n",
       "  <svg xmlns=\"http://www.w3.org/2000/svg\" height=\"24px\"viewBox=\"0 0 24 24\"\n",
       "       width=\"24px\">\n",
       "    <path d=\"M0 0h24v24H0V0z\" fill=\"none\"/>\n",
       "    <path d=\"M18.56 5.44l.94 2.06.94-2.06 2.06-.94-2.06-.94-.94-2.06-.94 2.06-2.06.94zm-11 1L8.5 8.5l.94-2.06 2.06-.94-2.06-.94L8.5 2.5l-.94 2.06-2.06.94zm10 10l.94 2.06.94-2.06 2.06-.94-2.06-.94-.94-2.06-.94 2.06-2.06.94z\"/><path d=\"M17.41 7.96l-1.37-1.37c-.4-.4-.92-.59-1.43-.59-.52 0-1.04.2-1.43.59L10.3 9.45l-7.72 7.72c-.78.78-.78 2.05 0 2.83L4 21.41c.39.39.9.59 1.41.59.51 0 1.02-.2 1.41-.59l7.78-7.78 2.81-2.81c.8-.78.8-2.07 0-2.86zM5.41 20L4 18.59l7.72-7.72 1.47 1.35L5.41 20z\"/>\n",
       "  </svg>\n",
       "      </button>\n",
       "      \n",
       "  <style>\n",
       "    .colab-df-container {\n",
       "      display:flex;\n",
       "      flex-wrap:wrap;\n",
       "      gap: 12px;\n",
       "    }\n",
       "\n",
       "    .colab-df-convert {\n",
       "      background-color: #E8F0FE;\n",
       "      border: none;\n",
       "      border-radius: 50%;\n",
       "      cursor: pointer;\n",
       "      display: none;\n",
       "      fill: #1967D2;\n",
       "      height: 32px;\n",
       "      padding: 0 0 0 0;\n",
       "      width: 32px;\n",
       "    }\n",
       "\n",
       "    .colab-df-convert:hover {\n",
       "      background-color: #E2EBFA;\n",
       "      box-shadow: 0px 1px 2px rgba(60, 64, 67, 0.3), 0px 1px 3px 1px rgba(60, 64, 67, 0.15);\n",
       "      fill: #174EA6;\n",
       "    }\n",
       "\n",
       "    [theme=dark] .colab-df-convert {\n",
       "      background-color: #3B4455;\n",
       "      fill: #D2E3FC;\n",
       "    }\n",
       "\n",
       "    [theme=dark] .colab-df-convert:hover {\n",
       "      background-color: #434B5C;\n",
       "      box-shadow: 0px 1px 3px 1px rgba(0, 0, 0, 0.15);\n",
       "      filter: drop-shadow(0px 1px 2px rgba(0, 0, 0, 0.3));\n",
       "      fill: #FFFFFF;\n",
       "    }\n",
       "  </style>\n",
       "\n",
       "      <script>\n",
       "        const buttonEl =\n",
       "          document.querySelector('#df-103aaa98-02a6-43b3-a03e-f448e50d8aae button.colab-df-convert');\n",
       "        buttonEl.style.display =\n",
       "          google.colab.kernel.accessAllowed ? 'block' : 'none';\n",
       "\n",
       "        async function convertToInteractive(key) {\n",
       "          const element = document.querySelector('#df-103aaa98-02a6-43b3-a03e-f448e50d8aae');\n",
       "          const dataTable =\n",
       "            await google.colab.kernel.invokeFunction('convertToInteractive',\n",
       "                                                     [key], {});\n",
       "          if (!dataTable) return;\n",
       "\n",
       "          const docLinkHtml = 'Like what you see? Visit the ' +\n",
       "            '<a target=\"_blank\" href=https://colab.research.google.com/notebooks/data_table.ipynb>data table notebook</a>'\n",
       "            + ' to learn more about interactive tables.';\n",
       "          element.innerHTML = '';\n",
       "          dataTable['output_type'] = 'display_data';\n",
       "          await google.colab.output.renderOutput(dataTable, element);\n",
       "          const docLink = document.createElement('div');\n",
       "          docLink.innerHTML = docLinkHtml;\n",
       "          element.appendChild(docLink);\n",
       "        }\n",
       "      </script>\n",
       "    </div>\n",
       "  </div>\n",
       "  "
      ]
     },
     "metadata": {},
     "execution_count": 56
    }
   ]
  },
  {
   "cell_type": "code",
   "source": [
    "events = dfs.Activity.tolist()\n",
    "events_csv = []\n",
    "for line in events:\n",
    "    events_csv.append(line.split())\n",
    "\n",
    "events_csv"
   ],
   "metadata": {
    "colab": {
     "base_uri": "https://localhost:8080/"
    },
    "id": "Sy9LQ8EXjjaI",
    "outputId": "3b28f038-5f77-499b-b57f-40acc3f71ca2",
    "pycharm": {
     "name": "#%%\n"
    }
   },
   "execution_count": 57,
   "outputs": [
    {
     "output_type": "execute_result",
     "data": {
      "text/plain": [
       "[['b', 'c', 'd', 'e'],\n",
       " ['b', 'c', 'e', 'd'],\n",
       " ['a', 'c', 'd', 'e'],\n",
       " ['a', 'c', 'e', 'd']]"
      ]
     },
     "metadata": {},
     "execution_count": 57
    }
   ]
  },
  {
   "cell_type": "markdown",
   "metadata": {
    "id": "wrvpFMtBsau7",
    "pycharm": {
     "name": "#%% md\n"
    }
   },
   "source": [
    "## Ćwiczenia rozszerzające model\n",
    "\n",
    "1. Dopisz odpowiednie fragmenty kodu, tak aby móc uzyskać odpowiednie zbiory zdarzeń i relacje automatycznie. Sprawdź wynik dla poniższego przykładowego zbioru wariantów:\n",
    "\n",
    "```\n",
    "a b c d e h i k \n",
    "a b d c e h j k \n",
    "a f g h i k\n",
    "```\n",
    "\n",
    "```\n",
    "direct_succession = {\n",
    "    'a': {'b', 'f'},\n",
    "    'b': {'c', 'd'},\n",
    "    'c': {'d', 'e'},\n",
    "    'd': {'c', 'e'},\n",
    "    'e': {'h'},\n",
    "    'f': {'g'},\n",
    "    'g': {'h'},\n",
    "    'h': {'i', 'j'},\n",
    "    'i': {'k'},\n",
    "    'j': {'k'}\n",
    "}\n",
    "```\n",
    "2. Zastanów się nad uogólnieniem relacji na wiele zdarzeń, tzn. jak powinny być wykrywane bramy posiadające wiele przepływów wejściowych lub wiele przepływów wyjściowych, a także co w przypadku, gdy relacje dla wielu zdarzeń są różne.\n",
    "\n",
    "  * Przetestuj swoje rozwiązanie na zestawie prostszych logów (zestaw A), które zostaną udostępnione na MS Teams. W sprawozdaniu proszę zamieścić wyniki działania rozwiązania dla całego zestawu.\n",
    "\n",
    "3. Zintegruj odkrywanie relacji z dzisiejszych zajęć z minerem stworzonym w ramach poprzednich zajęć i rozszerz ich działanie. \n",
    "\n",
    "  * Przemyśl między innymi, jak powinno zachowywać się filtrowanie w przypadku wykrywanych relacji. \n",
    "\n",
    "  * Uwaga! Pamiętaj, że realne logi mogą dla algorytmu Alpha nie dawać sensownych rezultatów, ze względu na ograniczenia samego algorytmu. Ponadto przedstawiony sposób wizualizacji BPMN może być nieestetyczny w przypadku skomplikowanego układu bramek lub pętli.\n",
    "\n",
    "4. Dodaj możliwość przesłania pliku dziennika zdarzeń w celu wykrycia procesu:\n",
    "\n",
    "  * Automatyczne wykryj typ pliku logu (`csv`, `xes`) i załaduj odpowiednie dane z pliku. Plik `xes` w formacie XML można załadować np. biblioteką `opyenxes`.\n",
    "\n",
    "  * W przypadku pliku `csv`, spróbuj dopasować ID przypadku, aktywność i znacznik czasu, lub jeśli nie są one dopasowane, poproś użytkownika o określenie odpowiednich kolumn.\n",
    "\n",
    "5. Rozbuduj opracowany algorytm o wykrywanie dodatkowych relacji/konstrukcji z algorytmu Alpha+ (krótkie pętle: *self-loops* oraz *short-loops*). \n",
    "\n",
    "  * Przetestuj swoje rozwiązanie na zestawie prostszych logów (zestaw B), które zostaną udostępnione na MS Teams. W sprawozdaniu proszę zamieścić wyniki działania rozwiązania dla całego zestawu.\n",
    "\n",
    "6. (*nadobowiązkowe*) Biblioteka używana do wizualizacji ma pewne ograniczenia, więc wyświetlany model BPMN nie zawsze będzie dobrze wyglądał. Osoby zainteresowane mogą zapoznać się z możliwościami rozbudowy swojego projektu poprzez:\n",
    "\n",
    "  * Eksport diagramów BPMN w standaryzowanym formacie XML — można go zrealizować przy użyciu np. `bpmn-python` (https://github.com/KrzyHonk/bpmn-python).\n",
    "  * Przygotowanie interaktywnej wizualizacji przy użyciu np. `pyvis` (https://pyvis.readthedocs.io/en/latest/index.html) albo `bpmn-js` (https://bpmn.io/toolkit/bpmn-js/).\n",
    "\n",
    "Dzisiejszy temat jest przewidziany do realizacji przez 2 tygodnie zajęciowe, zatem kolejne zajęcia w marcu będą miały formę konsultacyjną. \n",
    "\n",
    "Zadania mogą być realizowane w parach, natomiast w sprawozdaniu należy podać wtedy imiona i nazwiska osób z pary oraz każda osoba powinna wysłać zadanie/sprawozdanie przez system MS Teams osobno. W sprawozdaniu należy umieścić odpowiednie zrzuty ekranu oraz kod źródłowy (fragment kodu ze zmianami). \n",
    "**Sprawozdanie z wykonanych ćwiczeń należy przesłać przez platformę MS Teams do 10.04.2021**. Sprawozdanie (pdf + kod w pliku py albo ipynb).\n"
   ]
  },
  {
   "cell_type": "markdown",
   "metadata": {
    "id": "_nWnYQY2ifFx",
    "pycharm": {
     "name": "#%% md\n"
    }
   },
   "source": [
    "## Dodatkowe informacje\n",
    "\n",
    "W razie potrzeby dodatkowych konsultacji proszę o informację lub ewentualne pytania e-mailowo, na messengerze albo na MS Teams. \n",
    "\n",
    "Dziękuję za udział w zajęciach! \\\\\n",
    "Krzysztof Kluza \\\\\n",
    "kluza@agh.edu.pl\n"
   ]
  }
 ]
}